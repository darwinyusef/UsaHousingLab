{
  "nbformat": 4,
  "nbformat_minor": 0,
  "metadata": {
    "colab": {
      "private_outputs": true,
      "provenance": [],
      "authorship_tag": "ABX9TyMOEZR07zel4GsiTChg38NO",
      "include_colab_link": true
    },
    "kernelspec": {
      "name": "python3",
      "display_name": "Python 3"
    },
    "language_info": {
      "name": "python"
    }
  },
  "cells": [
    {
      "cell_type": "markdown",
      "metadata": {
        "id": "view-in-github",
        "colab_type": "text"
      },
      "source": [
        "<a href=\"https://colab.research.google.com/github/darwinyusef/UsaHousingLab/blob/master/Actividad1ClasificacionRamdomAndTree14297510.ipynb\" target=\"_parent\"><img src=\"https://colab.research.google.com/assets/colab-badge.svg\" alt=\"Open In Colab\"/></a>"
      ]
    },
    {
      "cell_type": "code",
      "source": [
        "!pip install category_encoders"
      ],
      "metadata": {
        "id": "RorMf7rBz4QE"
      },
      "execution_count": null,
      "outputs": []
    },
    {
      "cell_type": "code",
      "execution_count": null,
      "metadata": {
        "id": "vjwNB2cmjC1V"
      },
      "outputs": [],
      "source": [
        "import pandas as pd\n",
        "import numpy as np\n",
        "from sklearn.model_selection import train_test_split, GridSearchCV\n",
        "from sklearn.tree import DecisionTreeClassifier\n",
        "from sklearn.ensemble import RandomForestClassifier\n",
        "from sklearn.metrics import accuracy_score, classification_report, confusion_matrix\n",
        "from sklearn.preprocessing import StandardScaler\n",
        "from imblearn.under_sampling import RandomUnderSampler"
      ]
    },
    {
      "cell_type": "code",
      "source": [
        "!wget -O housing_train.csv 'https://raw.githubusercontent.com/darwinyusef/UsaHousingLab/master/housing_train.csv'"
      ],
      "metadata": {
        "id": "5jBgB5MvjGWs"
      },
      "execution_count": null,
      "outputs": []
    },
    {
      "cell_type": "code",
      "source": [
        "df = pd.read_csv('/content/housing_train.csv')\n",
        "df"
      ],
      "metadata": {
        "id": "IY5dv7kRjUOb"
      },
      "execution_count": null,
      "outputs": []
    },
    {
      "cell_type": "code",
      "source": [
        "df.head()"
      ],
      "metadata": {
        "id": "AnkhsniUjXsj"
      },
      "execution_count": null,
      "outputs": []
    },
    {
      "cell_type": "code",
      "source": [
        "df.columns"
      ],
      "metadata": {
        "id": "EnfOLKaSvlsb"
      },
      "execution_count": null,
      "outputs": []
    },
    {
      "cell_type": "code",
      "source": [
        "df_numericas = df.select_dtypes(include=['number'])\n",
        "# @title Columnas categóricas\n",
        "df_categoricas = df.select_dtypes(include=['object'])\n",
        "df_numericas.nunique().shape, df_categoricas.nunique().shape"
      ],
      "metadata": {
        "id": "rGNTMm64aMd3"
      },
      "execution_count": null,
      "outputs": []
    },
    {
      "cell_type": "code",
      "source": [
        "df.nunique()"
      ],
      "metadata": {
        "id": "7CEO4T5PUzgX"
      },
      "execution_count": null,
      "outputs": []
    },
    {
      "cell_type": "code",
      "source": [
        "# @title Tratamiento de missing\n",
        "\n",
        "df['LotFrontage'] = df.groupby('Neighborhood')['LotFrontage'].transform(lambda x: x.fillna(x.median()))\n",
        "df['Alley'] = df['Alley'].fillna('NoAcceso')\n",
        "bsmt_cols = ['BsmtQual', 'BsmtCond', 'BsmtExposure', 'BsmtFinType1', 'BsmtFinType2']\n",
        "df[bsmt_cols] = df[bsmt_cols].fillna('SinSótano')\n",
        "df['GarageYrBlt'] = df['GarageYrBlt'].fillna(0)\n",
        "garage_cols = ['GarageType', 'GarageFinish', 'GarageQual', 'GarageCond']\n",
        "df[garage_cols] = df[garage_cols].fillna('SinGaraje')\n",
        "garage_cols = ['GarageType', 'GarageFinish', 'GarageQual', 'GarageCond']\n",
        "df[garage_cols] = df[garage_cols].fillna('SinGaraje')\n",
        "df['MasVnrType'] = df['MasVnrType'].fillna('Ninguno')\n",
        "df['MasVnrArea'] = df['MasVnrArea'].fillna(0)\n",
        "df['FireplaceQu'] = df['FireplaceQu'].fillna('SinChimenea')\n",
        "df['Fence'] = df['Fence'].fillna('SinCerca')\n",
        "df['PoolQC'] = df['PoolQC'].fillna('SinPiscina')\n",
        "df['MiscFeature'] = df['MiscFeature'].fillna('Ninguna')\n",
        "missing_electrical = df['Electrical'].isnull().sum()\n",
        "moda_electrical = df['Electrical'].mode()[0]\n",
        "df['Electrical'] = df['Electrical'].fillna(moda_electrical)\n",
        "\n",
        "# @markdown Resultado = 0\n",
        "print(df.isnull().sum().sum())"
      ],
      "metadata": {
        "id": "FZMMeh4gjfnl"
      },
      "execution_count": null,
      "outputs": []
    },
    {
      "cell_type": "markdown",
      "source": [
        "## Ejercicio clasificación\n",
        "\n",
        "tanto para Árboles como para random forest, se crean los siguientes grupos: grupo1 SalePrice menor o igual a 100.000, grupo2 SalePrice entre 100.001 y 500.000 y grupo3 SalePrice mayor o igual a 500001.\n"
      ],
      "metadata": {
        "id": "TS71nwlzj3hq"
      }
    },
    {
      "cell_type": "markdown",
      "source": [
        "- OverallQual → Calidad general de la casa (Factor más importante en el precio).\n",
        "- GrLivArea → Área habitable sobre el suelo (Casas más grandes valen más).\n",
        "- GarageCars → Número de autos que caben en el garaje (Más espacio, más valor).\n",
        "- TotalBsmtSF → Tamaño total del sótano (Espacio extra muy valioso).\n",
        "- FullBath → Número de baños completos ( Mayor comodidad, mayor precio).\n",
        "- YearBuilt → Año de construcción (Casas más nuevas suelen valer más).\n",
        "- LotArea → Tamaño del terreno (Más terreno, más valor).\n",
        "- GarageArea → Tamaño del garaje (Espacio adicional es un plus)."
      ],
      "metadata": {
        "id": "Jm4IV6c-weCf"
      }
    },
    {
      "cell_type": "code",
      "source": [
        "características = ['OverallQual', 'GrLivArea', 'GarageCars', 'TotalBsmtSF', 'FullBath', 'YearBuilt']\n",
        "X = df[características]\n",
        "\n",
        "\n",
        "# 3. Crear la variable de clasificación según SalePrice\n",
        "def categorizar_precio(precio):\n",
        "    if precio <= 100000:\n",
        "        return 1\n",
        "    elif precio <= 500000:\n",
        "        return 2\n",
        "    else:\n",
        "        return 3\n",
        "\n",
        "\n",
        "df['PrecioGrupo'] = df['SalePrice'].apply(categorizar_precio)\n",
        "y = df['PrecioGrupo']\n",
        "y.shape"
      ],
      "metadata": {
        "id": "4QU61rfMkG_e"
      },
      "execution_count": null,
      "outputs": []
    },
    {
      "cell_type": "code",
      "source": [
        "import category_encoders as ce\n",
        "# ========================== 3. Codificación de Variables Categóricas ==========================\n",
        "# (Iris no tiene variables categóricas, pero aquí se muestra cómo hacerlo)\n",
        "encoder = ce.OrdinalEncoder()\n",
        "X_encoded = encoder.fit_transform(X)\n",
        "X_encoded.shape"
      ],
      "metadata": {
        "id": "Fq6gb5ub0U8f"
      },
      "execution_count": null,
      "outputs": []
    },
    {
      "cell_type": "code",
      "source": [
        "df['PrecioGrupo'].value_counts()"
      ],
      "metadata": {
        "id": "Hgb14bDnlHFf"
      },
      "execution_count": null,
      "outputs": []
    },
    {
      "cell_type": "code",
      "source": [
        "# Dividir el conjunto de datos en entrenamiento y prueba\n",
        "X_entrenamiento, X_prueba, y_entrenamiento, y_prueba = train_test_split(X_encoded, y, test_size=0.3, random_state=42, stratify=y)\n"
      ],
      "metadata": {
        "id": "qt30bLUZkK_i"
      },
      "execution_count": null,
      "outputs": []
    },
    {
      "cell_type": "code",
      "source": [
        "from imblearn.over_sampling import SMOTE\n",
        "from sklearn.model_selection import train_test_split\n",
        "from sklearn.preprocessing import StandardScaler"
      ],
      "metadata": {
        "id": "q8PX7Hj7lTXq"
      },
      "execution_count": null,
      "outputs": []
    },
    {
      "cell_type": "code",
      "source": [
        "# Aplicar SMOTE para BALANCEO de clases\n",
        "\n",
        "# @ markdown - al aplicar balanceo notamos que la graficas cambiaron radicalmente disminuyendo a 0.10 la presición del modelo por esta causa retiro el SMOTE\n",
        "smote = SMOTE(random_state=42)\n",
        "X_train_bal, y_train_bal = smote.fit_resample(X_entrenamiento, y_entrenamiento)\n",
        "\n",
        "pd.Series(y_train_bal).value_counts()"
      ],
      "metadata": {
        "id": "0KVcZ_6ZlcnU"
      },
      "execution_count": null,
      "outputs": []
    },
    {
      "cell_type": "code",
      "source": [
        "# Estandarizar las características\n",
        "escalador = StandardScaler()\n",
        "X_entrenamiento = escalador.fit_transform(X_entrenamiento)\n",
        "X_prueba = escalador.transform(X_prueba)"
      ],
      "metadata": {
        "id": "L_IARgipkNuN"
      },
      "execution_count": null,
      "outputs": []
    },
    {
      "cell_type": "code",
      "source": [
        "param_grid = {\n",
        "    'n_estimators': [50, 100, 150],  # Número de árboles en el bosque\n",
        "    'max_depth': [None, 10, 20],  # Profundidad máxima del árbol\n",
        "    'criterion': ['gini', 'entropy']  # Función de impureza\n",
        "}\n",
        "\n",
        "modelo = RandomForestClassifier(random_state=42)\n",
        "modelo.fit(X_entrenamiento, y_entrenamiento)\n",
        "y_pred_arbol = modelo.predict(X_prueba)\n",
        "\n",
        "grid_search = GridSearchCV(modelo, param_grid, cv=5, scoring='accuracy', n_jobs=-1)\n",
        "grid_search.fit(X_entrenamiento, y_entrenamiento)\n",
        "\n",
        "print(X_train_bal.shape, X_entrenamiento.shape)\n",
        "print(\"\\n\")\n",
        "print(pd.DataFrame(X_train_bal, columns=características).head())  # ¿Siguen presentes las características?\n",
        "\n",
        "# 9. Mostrar los mejores hiperparámetros\n",
        "print(\"Mejores hiperparámetros:\", grid_search.best_params_)\n",
        "\n",
        "# 10. Evaluar el mejor modelo en el conjunto de prueba\n",
        "mejor_modelo = grid_search.best_estimator_"
      ],
      "metadata": {
        "id": "ztiEc7zYq5Fv"
      },
      "execution_count": null,
      "outputs": []
    },
    {
      "cell_type": "code",
      "source": [
        "X_prueba.shape"
      ],
      "metadata": {
        "id": "krOrbfnhIt6i"
      },
      "execution_count": null,
      "outputs": []
    },
    {
      "cell_type": "code",
      "source": [
        "# ========================== 8. Evaluación del Modelo ==========================\n",
        "\n",
        "y_train_pred = mejor_modelo.predict(X_entrenamiento)\n",
        "y_test_pred = mejor_modelo.predict(X_prueba)\n",
        "\n",
        "# Calculo el accuract en train\n",
        "\n",
        "\n",
        "train_acc_ramdom = accuracy_score(y_true=y_entrenamiento,y_pred=y_train_pred)\n",
        "# Calculo el accuract en test\n",
        "test_acc_ramdom  = accuracy_score(y_true=y_prueba,y_pred=y_test_pred)\n",
        "\n",
        "print(\"Exactitud en datos de entrenamiento:\", train_acc_ramdom)\n",
        "print(\"Exactitud en datos de predicción:\", test_acc_ramdom)"
      ],
      "metadata": {
        "id": "YyXJk0knIALP"
      },
      "execution_count": null,
      "outputs": []
    },
    {
      "cell_type": "code",
      "source": [
        "import matplotlib.pyplot as plt\n",
        "import seaborn as sns\n",
        "from sklearn.metrics import confusion_matrix, classification_report"
      ],
      "metadata": {
        "id": "gobUrGWUrGxC"
      },
      "execution_count": null,
      "outputs": []
    },
    {
      "cell_type": "code",
      "source": [
        "# @title Matriz de Confusión para Ramdom Forest\n",
        "\n",
        "# Definir las etiquetas de las clases\n",
        "labels = ['<= 100000', '<= 500000', 'Otros']\n",
        "\n",
        "cmrf = confusion_matrix(y_prueba, y_test_pred)\n",
        "# Crear un DataFrame para la matriz de confusión\n",
        "df_cm = pd.DataFrame(cmrf, index=labels, columns=labels)\n",
        "\n",
        "# Graficar la matriz de confusión\n",
        "plt.figure(figsize=(8, 6))\n",
        "sns.heatmap(df_cm, annot=True, fmt='d', cmap='Reds')\n",
        "plt.xlabel('Predicción')\n",
        "plt.ylabel('Real')\n",
        "plt.title('Matriz de Confusión para ramdom forest')\n",
        "plt.show()\n",
        "\n",
        "df_cm"
      ],
      "metadata": {
        "id": "RDPoSjGQkfcG"
      },
      "execution_count": null,
      "outputs": []
    },
    {
      "cell_type": "code",
      "source": [
        "# @title Reporte de Clasificación\n",
        "report = classification_report(y_prueba, y_test_pred, output_dict=True)\n",
        "# Convertir el informe en un DataFrame\n",
        "df_report = pd.DataFrame(report).transpose()\n",
        "df_report"
      ],
      "metadata": {
        "id": "FWQZO0KDrrLx"
      },
      "execution_count": null,
      "outputs": []
    },
    {
      "cell_type": "markdown",
      "source": [],
      "metadata": {
        "id": "7X_NjRo0J8nX"
      }
    },
    {
      "cell_type": "code",
      "source": [
        "feature_scores = pd.DataFrame(pd.Series(mejor_modelo.feature_importances_, index=características).sort_values(ascending=False)).T\n",
        "plt.figure(figsize=(12,6))\n",
        "sns.barplot(data=feature_scores)\n",
        "\n",
        "for index, value in enumerate(feature_scores.values.flatten()):\n",
        "    plt.annotate(f'{value:.2f}', xy=(index, value), ha='center', va='bottom')\n",
        "\n",
        "\n",
        "plt.title(\"Factores clave en la predicción de ramdom forest para este modelo\")\n",
        "plt.show()"
      ],
      "metadata": {
        "id": "bSNocsi8JqhU"
      },
      "execution_count": null,
      "outputs": []
    },
    {
      "source": [
        "from matplotlib import pyplot as plt\n",
        "df_report['f1-score'].plot(kind='line', figsize=(8, 4), title='f1-score')\n",
        "plt.gca().spines[['top', 'right']].set_visible(False)"
      ],
      "cell_type": "code",
      "metadata": {
        "id": "lCdQI_UY_skw"
      },
      "execution_count": null,
      "outputs": []
    },
    {
      "cell_type": "code",
      "source": [
        "# Seleccionar las métricas a graficar\n",
        "metrics = ['precision', 'recall', 'f1-score']\n",
        "palettes = [\"magma\", \"flare\", \"viridis\"]\n",
        "\n",
        "# Graficar el informe de clasificación\n",
        "df_report[metrics].iloc[:-1].plot(kind='bar', figsize=(10, 6))\n",
        "plt.title('Informe de Clasificación')\n",
        "plt.xlabel('Clases')\n",
        "plt.ylabel('Puntuación')\n",
        "plt.ylim(0, 1)\n",
        "plt.legend(loc='lower right')\n",
        "plt.grid(axis='y')\n",
        "plt.show()"
      ],
      "metadata": {
        "id": "99fxzOpt_JlE"
      },
      "execution_count": null,
      "outputs": []
    },
    {
      "cell_type": "code",
      "source": [
        "sns.set(style=\"whitegrid\")\n",
        "for i, metric in enumerate(metrics):\n",
        "    print(i)\n",
        "    plt.figure(figsize=(10, 6))\n",
        "    ax = sns.barplot(x=df_report.index[:-3], y=df_report[metric].iloc[:-3], palette=palettes[i])\n",
        "    plt.title(f'{metric.capitalize()} por Clase')\n",
        "    plt.xlabel('Clases')\n",
        "    plt.ylabel(f'{metric.capitalize()}')\n",
        "    plt.ylim(0, 1)\n",
        "    for p in ax.patches:\n",
        "        ax.annotate(f'{p.get_height():.2f}', (p.get_x() + p.get_width() / 2., p.get_height()),\n",
        "                    ha='center', va='center', fontsize=10, color='black', xytext=(0, 5),\n",
        "                    textcoords='offset points')\n",
        "    plt.show()"
      ],
      "metadata": {
        "id": "Hr4RbwT2_CDz"
      },
      "execution_count": null,
      "outputs": []
    },
    {
      "cell_type": "code",
      "source": [
        "from sklearn import tree\n",
        "import matplotlib.pyplot as plt\n",
        "\n",
        "single_tree = modelo.estimators_[80]\n",
        "num_trees = modelo.n_estimators\n",
        "print(f\"The number of trees in the Random Forest is: {num_trees}\")\n",
        "plt.figure(figsize=(20, 10))\n",
        "tree.plot_tree(single_tree,\n",
        "               filled=True,\n",
        "               feature_names=X.columns,\n",
        "               class_names=True)\n",
        "plt.show()"
      ],
      "metadata": {
        "id": "zq3tOrxdAIsR"
      },
      "execution_count": null,
      "outputs": []
    },
    {
      "cell_type": "code",
      "source": [
        "arbol = DecisionTreeClassifier(random_state=42)\n",
        "arbol.fit(X_entrenamiento, y_entrenamiento)\n",
        "\n",
        "y_pred_arbol = modelo.predict(X_entrenamiento)\n",
        "y_test_arbol = modelo.predict(X_prueba)\n",
        "\n",
        "#param_grid = {\n",
        "#    'criterion': ['gini', 'entropy'],\n",
        "#    'max_depth': [None, 10, 20, 30, 40, 50],\n",
        "#    'min_samples_split': [2, 5, 10],\n",
        "#    'min_samples_leaf': [1, 2, 4]\n",
        "#}\n",
        "\n",
        "# parametros del decision tree\n",
        "param_grid = {'criterion': ['gini', 'entropy'], 'max_depth': [2, 3, 4, 5]}\n",
        "\n",
        "grid_search = GridSearchCV(arbol, param_grid, cv=5, scoring='accuracy', n_jobs=-1)\n",
        "grid_search.fit(X_entrenamiento, y_entrenamiento)\n",
        "\n",
        "# +++++++++++++++++++++++++++++++++++++++++++++++++++++++++++++++++++++++++++++++++++++++++++++++++\n",
        "\n",
        "\n",
        "# 9. Mostrar los mejores hiperparámetros\n",
        "print(\"Mejores hiperparámetros:\", grid_search.best_params_)\n",
        "\n",
        "# 10. Evaluar el mejor modelo en el conjunto de prueba\n",
        "mejor_modelo_arbol = grid_search.best_estimator_\n"
      ],
      "metadata": {
        "id": "ylbqA5ApkRnI"
      },
      "execution_count": null,
      "outputs": []
    },
    {
      "cell_type": "code",
      "source": [
        "y_train_pred_tree = mejor_modelo_arbol.predict(X_entrenamiento)\n",
        "y_test_pred_tree = mejor_modelo_arbol.predict(X_prueba)\n",
        "\n",
        "\n",
        "# Calculo el accuract en train\n",
        "train_acc_arbol = accuracy_score(y_true=y_entrenamiento,y_pred=y_train_pred_tree)\n",
        "# Calculo el accuract en test\n",
        "test_acc_arbol  = accuracy_score(y_true=y_prueba,y_pred=y_test_pred_tree)\n",
        "\n",
        "print(\"El accuracy en train es:\",train_acc_arbol)\n",
        "print(\"El accuracy en test es:\",test_acc_arbol)\n",
        "\n",
        "print(classification_report(y_prueba,y_test_pred_tree))"
      ],
      "metadata": {
        "id": "jbfvQmcgMfIT"
      },
      "execution_count": null,
      "outputs": []
    },
    {
      "cell_type": "code",
      "source": [
        "# @title Matriz de Confusión para Ramdom Forest\n",
        "\n",
        "# Definir las etiquetas de las clases\n",
        "labels = ['<= 100000', '<= 500000', 'Otros']\n",
        "\n",
        "cmrf=confusion_matrix(y_prueba,y_test_pred_tree)\n",
        "print(cm)\n",
        "accuracy_score(y_prueba,y_test_pred_tree)\n",
        "# Crear un DataFrame para la matriz de confusión\n",
        "df_cm = pd.DataFrame(cmrf, index=labels, columns=labels)\n",
        "\n",
        "# Graficar la matriz de confusión\n",
        "plt.figure(figsize=(8, 6))\n",
        "sns.heatmap(df_cm, annot=True, fmt='d', cmap='Blues')\n",
        "plt.xlabel('Predicción')\n",
        "plt.ylabel('Real')\n",
        "plt.title('Matriz de Confusión para ramdom forest')\n",
        "plt.show()\n",
        "\n",
        "df_cm"
      ],
      "metadata": {
        "id": "y9OaSPQaA3nV"
      },
      "execution_count": null,
      "outputs": []
    },
    {
      "cell_type": "code",
      "source": [
        "feature_scores = pd.DataFrame(pd.Series(mejor_modelo_arbol.feature_importances_, index=características).sort_values(ascending=False)).T\n",
        "plt.figure(figsize=(12,6))\n",
        "sns.barplot(data=feature_scores)\n",
        "\n",
        "for index, value in enumerate(feature_scores.values.flatten()):\n",
        "    plt.annotate(f'{value:.2f}', xy=(index, value), ha='center', va='bottom')\n",
        "\n",
        "\n",
        "plt.title(\"Factores clave en la predicción de la desition tree para este modelo\")\n",
        "plt.show()"
      ],
      "metadata": {
        "id": "TPpG6NNEN5O1"
      },
      "execution_count": null,
      "outputs": []
    },
    {
      "cell_type": "code",
      "source": [
        "plt.figure(figsize=(15, 10))\n",
        "tree.plot_tree(mejor_modelo_arbol,  # Use the DecisionTreeClassifier object directly\n",
        "               filled=True,\n",
        "               feature_names=características,  # Use the correct feature names from your dataset\n",
        "               class_names=['1', '2', '3'])  # Assuming your classes are 1, 2, and 3\n",
        "plt.show()"
      ],
      "metadata": {
        "id": "c4gfLUfDOSOl"
      },
      "execution_count": null,
      "outputs": []
    },
    {
      "cell_type": "code",
      "source": [
        "\n",
        "print(\"Porcentaje en datos de entrenamiento en ramdom \", train_acc_ramdom)\n",
        "print(\"El accuracy en train en tree\",train_acc_arbol)\n",
        "\n",
        "print(\"Porcentaje en datos de predicción en ramdom \", test_acc_ramdom)\n",
        "print(\"El accuracy en test es tree\",test_acc_arbol)"
      ],
      "metadata": {
        "id": "9JH0lImcPAfr"
      },
      "execution_count": null,
      "outputs": []
    },
    {
      "cell_type": "code",
      "source": [
        "valor_a = train_acc_ramdom\n",
        "valor_b = train_acc_arbol\n",
        "etiquetas = ['Ramdom Forest A', 'Desition Tree B']\n",
        "valores = [valor_a, valor_b]"
      ],
      "metadata": {
        "id": "Qq7DSE4uBxq3"
      },
      "execution_count": null,
      "outputs": []
    },
    {
      "cell_type": "code",
      "source": [
        "# Crear el gráfico de pastel\n",
        "colores = ['#ff9999','#66b3ff','#99ff99']  # Lista de colores en formato hexadecimal\n",
        "fig, ax = plt.subplots()\n",
        "wedges, texts, autotexts = ax.pie(valores, labels=etiquetas, autopct='%1.1f%%', startangle=90, colors=colores, wedgeprops=dict(width=0.3))\n",
        "ax.axis('equal')\n",
        "plt.title('Comparación de Efectividad de entrenamiento entre Ramdom Forest A y Desition Tree B')\n",
        "plt.show()\n"
      ],
      "metadata": {
        "id": "549tGNnWBzqC"
      },
      "execution_count": null,
      "outputs": []
    },
    {
      "cell_type": "code",
      "source": [
        "valor_a = test_acc_ramdom\n",
        "valor_b = test_acc_arbol\n",
        "etiquetas = ['Ramdom Forest A', 'Desition Tree B']\n",
        "valores = [valor_a, valor_b]"
      ],
      "metadata": {
        "id": "bFl5enVBQkf1"
      },
      "execution_count": null,
      "outputs": []
    },
    {
      "cell_type": "code",
      "source": [
        "# Crear el gráfico de pastel\n",
        "fig, ax = plt.subplots()\n",
        "wedges, texts, autotexts = ax.pie(valores, labels=etiquetas, autopct='%1.1f%%', startangle=90, wedgeprops=dict(width=0.3))\n",
        "ax.axis('equal')\n",
        "plt.title('Comparación de Efectividad de test entre Ramdom Forest A y Desition Tree B')\n",
        "plt.show()"
      ],
      "metadata": {
        "id": "Xrq-TbaPQnG4"
      },
      "execution_count": null,
      "outputs": []
    }
  ]
}